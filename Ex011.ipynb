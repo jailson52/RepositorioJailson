{
  "nbformat": 4,
  "nbformat_minor": 0,
  "metadata": {
    "colab": {
      "name": "Ex011.ipynb",
      "provenance": [],
      "authorship_tag": "ABX9TyMqbTDOS499SMZaahA29ZHN",
      "include_colab_link": true
    },
    "kernelspec": {
      "name": "python3",
      "display_name": "Python 3"
    },
    "language_info": {
      "name": "python"
    }
  },
  "cells": [
    {
      "cell_type": "markdown",
      "metadata": {
        "id": "view-in-github",
        "colab_type": "text"
      },
      "source": [
        "<a href=\"https://colab.research.google.com/github/jailson52/RepositorioJailson/blob/main/Ex011.ipynb\" target=\"_parent\"><img src=\"https://colab.research.google.com/assets/colab-badge.svg\" alt=\"Open In Colab\"/></a>"
      ]
    },
    {
      "cell_type": "code",
      "metadata": {
        "colab": {
          "base_uri": "https://localhost:8080/"
        },
        "id": "xlPku0_ib9LW",
        "outputId": "a7fb78e9-1a53-4d77-80cf-e125d20d9c55"
      },
      "source": [
        "l = float(input('Digite a largura: '))\n",
        "a = float(input('Digite a altura: '))\n",
        "area = l * a\n",
        "tinta = area / 2\n",
        "print('Sua parede de {} X {} mede {}m2 precisa de {} Litros de tinta'.format(l, a, area, tinta))"
      ],
      "execution_count": 13,
      "outputs": [
        {
          "output_type": "stream",
          "name": "stdout",
          "text": [
            "Digite a largura: 5\n",
            "Digite a altura: 5\n",
            "Sua parede de 5.0 X 5.0 mede 25.0m2 precisa de 12.5 Litros de tinta\n"
          ]
        }
      ]
    },
    {
      "cell_type": "markdown",
      "metadata": {
        "id": "MK-YXPe1b-GQ"
      },
      "source": [
        "Exercício Python 11: Faça um programa que leia a largura e a altura de uma parede em metros, calcule a sua área e a quantidade de tinta necessária para pintá-la, sabendo que cada litro de tinta pinta uma área de 2 metros quadrados.\n"
      ]
    }
  ]
}